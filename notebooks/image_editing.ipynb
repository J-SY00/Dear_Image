{
 "cells": [
  {
   "cell_type": "code",
   "execution_count": null,
   "metadata": {},
   "outputs": [],
   "source": [
    "import os\n",
    "import sys\n",
    "module_path = os.path.abspath(os.path.join('..'))\n",
    "if module_path not in sys.path:\n",
    "    sys.path.append(module_path)"
   ]
  },
  {
   "cell_type": "code",
   "execution_count": null,
   "metadata": {},
   "outputs": [],
   "source": [
    "%env OPENAI_API_KEY=<Enter you key here>"
   ]
  },
  {
   "cell_type": "code",
   "execution_count": null,
   "metadata": {},
   "outputs": [],
   "source": [
    "from PIL import Image\n",
    "from IPython.core.display import HTML\n",
    "\n",
    "from engine.utils import ProgramGenerator, ProgramInterpreter\n",
    "from prompts.imgeEdit import PROMPT"
   ]
  },
  {
   "cell_type": "code",
   "execution_count": null,
   "metadata": {},
   "outputs": [],
   "source": [
    "interpreter = ProgramInterpreter(dataset='imageEdit')"
   ]
  },
  {
   "cell_type": "code",
   "execution_count": null,
   "metadata": {},
   "outputs": [],
   "source": [
    "def create_prompt(instruction):\n",
    "    return PROMPT.format(instruction=instruction)\n",
    "\n",
    "generator = ProgramGenerator(prompter=create_prompt)"
   ]
  },
  {
   "cell_type": "code",
   "execution_count": null,
   "metadata": {},
   "outputs": [],
   "source": [
    "image = Image.open('../assets/tree.jpg')\n",
    "\n",
    "image.thumbnail((512,512),Image.Resampling.LANCZOS)\n",
    "init_state = dict(\n",
    "    IMAGE=image.convert('RGB')\n",
    ")\n",
    "image"
   ]
  },
  {
   "cell_type": "code",
   "execution_count": null,
   "metadata": {},
   "outputs": [],
   "source": [
    "# instruction = \"Select person Benedict Cumberbatch and Martin Freeman, and blur\"\n",
    "# instruction = \"Select the door-stuff, and blur\"\n",
    "# instruction = \"Select the man with brown hat, and blur\"\n",
    "# instruction = \"Select black hat person and brown hat person, and blur\"\n",
    "# instruction = \"Select male lead characters from Sherlock homes series and blur the background\"\n",
    "# instruction = \"Select Daniel Radcliffe and blur the background\"\n",
    "# instruction = \"Select lead character from Harry Potter and blur the background\"\n",
    "# instruction = \"Select person Timothée Chalamet, and blur the background\"\n",
    "# instruction = \"Select the tree and blur the background\"\n",
    "instruction = \"Select sky and tree, and blur\"\n",
    "# instruction = \"Select person wearing white suit and blur\"\n",
    "# instruction = \"Select right girl and ground, and blur the background\"\n",
    "# instruction = \"Select tree and road, and blur background\"\n",
    "# instruction = \"Select man with black hat and blur the background\"\n",
    "# instruction = \"Select person wearing gray hood, and blur\"\n",
    "# instruction = \"Blur truck and flower\"\n",
    "# instruction = \"Select tree, sky and blur\"\n",
    "# instruction = \"Blur blue road sign\"\n",
    "prog,_ = generator.generate(instruction)\n",
    "print(prog)"
   ]
  },
  {
   "cell_type": "code",
   "execution_count": null,
   "metadata": {},
   "outputs": [],
   "source": [
    "result, prog_state, html_str = interpreter.execute(prog,init_state,inspect=True)"
   ]
  },
  {
   "cell_type": "code",
   "execution_count": null,
   "metadata": {},
   "outputs": [],
   "source": [
    "result\n",
    "result.save(\"../result/Blur_Image.jpg\")"
   ]
  },
  {
   "cell_type": "code",
   "execution_count": null,
   "metadata": {},
   "outputs": [],
   "source": [
    "HTML(html_str)"
   ]
  },
  {
   "cell_type": "code",
   "execution_count": null,
   "metadata": {},
   "outputs": [],
   "source": []
  }
 ],
 "metadata": {
  "kernelspec": {
   "display_name": "visProg",
   "language": "python",
   "name": "python3"
  },
  "language_info": {
   "codemirror_mode": {
    "name": "ipython",
    "version": 3
   },
   "file_extension": ".py",
   "mimetype": "text/x-python",
   "name": "python",
   "nbconvert_exporter": "python",
   "pygments_lexer": "ipython3",
   "version": "3.10.13"
  }
 },
 "nbformat": 4,
 "nbformat_minor": 4
}
