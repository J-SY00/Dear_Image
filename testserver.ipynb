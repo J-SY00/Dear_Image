{
 "cells": [
  {
   "cell_type": "code",
   "execution_count": null,
   "metadata": {},
   "outputs": [
    {
     "name": "stderr",
     "output_type": "stream",
     "text": [
      "127.0.0.1 - - [29/Mar/2024 01:43:58] \"GET /visResult HTTP/1.1\" 200 -\n"
     ]
    },
    {
     "name": "stdout",
     "output_type": "stream",
     "text": [
      "COUNT\n",
      "RESULT\n"
     ]
    }
   ],
   "source": [
    "# 서버 구동\n",
    "\n",
    "from flask import Flask\n",
    "import import_ipynb\n",
    "from gqa_module import *\n",
    "import os\n",
    "import sys\n",
    "module_path = os.path.abspath(os.path.join('..'))\n",
    "if module_path not in sys.path:\n",
    "    sys.path.append(module_path)\n",
    "%env OPENAI_API_KEY=<Enter you key here>\n",
    "from PIL import Image\n",
    "from IPython.core.display import HTML\n",
    "from functools import partial\n",
    "from engine.utils import ProgramGenerator, ProgramInterpreter\n",
    "from prompts.gqa import create_prompt\n",
    "\n",
    "app = Flask(__name__)\n",
    "\n",
    "interpreter = ProgramInterpreter(dataset='gqa')\n",
    "prompter = partial(create_prompt,method='all')\n",
    "generator = ProgramGenerator(prompter=prompter)\n",
    "\n",
    "@app.route('/')\n",
    "def index():\n",
    "    return f'''<!doctype html>\n",
    "    <html>\n",
    "        <body>\n",
    "            <h1><a href=\"/\">visprog</a></h1>\n",
    "            <ol>\n",
    "                <a href=\"/visResult\">실행</a>\n",
    "            </ol>\n",
    "        </body>\n",
    "    </html>\n",
    "    '''\n",
    "\n",
    "@app.route('/visResult')\n",
    "def visResult():\n",
    "    url = 'assets/camel1.png'\n",
    "    chat = \"How many people or animals are in the image?\"\n",
    "    \n",
    "    #버스 2개로 인식...\n",
    "    #url = 'assets/RED BUS.jpg'\n",
    "    #chat = \"How many buses are in this image?\"\n",
    "    result = exe_gqa(url, chat, interpreter, prompter, generator)\n",
    "    return f'''<!doctype html>\n",
    "    <html>\n",
    "        <body>\n",
    "            <h1><a href=\"/\">visprog</a></h1>\n",
    "            <ol>\n",
    "                {result}\n",
    "            </ol>\n",
    "        </body>\n",
    "    </html>\n",
    "    '''\n",
    "\n",
    "app.run()"
   ]
  }
 ],
 "metadata": {
  "kernelspec": {
   "display_name": "VisProg",
   "language": "python",
   "name": "vp"
  },
  "language_info": {
   "codemirror_mode": {
    "name": "ipython",
    "version": 3
   },
   "file_extension": ".py",
   "mimetype": "text/x-python",
   "name": "python",
   "nbconvert_exporter": "python",
   "pygments_lexer": "ipython3",
   "version": "3.10.13"
  }
 },
 "nbformat": 4,
 "nbformat_minor": 2
}
